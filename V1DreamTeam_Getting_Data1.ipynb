{
 "cells": [
  {
   "cell_type": "markdown",
   "id": "ef57cb61-ec4e-4728-9b40-7df849e05745",
   "metadata": {},
   "source": [
    "# Install Modules"
   ]
  },
  {
   "cell_type": "markdown",
   "id": "2c939307-6a06-4eec-b09c-640d07851cc5",
   "metadata": {},
   "source": [
    "# Imports"
   ]
  },
  {
   "cell_type": "code",
   "execution_count": 1,
   "id": "4664d63b-a3d6-4bfb-89d2-d28bb3432255",
   "metadata": {},
   "outputs": [],
   "source": [
    "# 1. Basic Python Imports\n",
    "import pandas as pd\n",
    "import numpy as np\n",
    "import pickle as pi\n",
    "import os\n",
    "import pprint \n",
    "\n",
    "# 2. API PULL\n",
    "from requests import Request, Session\n",
    "from requests.exceptions import ConnectionError, Timeout, TooManyRedirects\n",
    "import json\n",
    "\n",
    "# 3. API Keys\n",
    "from dotenv import load_dotenv\n"
   ]
  },
  {
   "cell_type": "code",
   "execution_count": 2,
   "id": "e9336483-5d1c-40c6-9bae-e7304b86e965",
   "metadata": {},
   "outputs": [],
   "source": [
    "# VARIABLES\n",
    "\n",
    "# Load the environment variables from the .env file\n",
    "# load_dotenv('app.env')\n",
    "coin_market_api_key = ('3486d5cf-6e5b-443f-8f9a-140421f63bb3')\n"
   ]
  },
  {
   "cell_type": "code",
   "execution_count": 3,
   "id": "3dad01c5-e8cf-4ac5-81fc-18c083e32a55",
   "metadata": {},
   "outputs": [],
   "source": [
    "from requests import Request, Session\n",
    "from requests.exceptions import ConnectionError, Timeout, TooManyRedirects\n",
    "import json\n",
    "\n",
    "url = 'https://sandbox-api.coinmarketcap.com/v1/cryptocurrency/listings/latest'\n",
    "parameters = {\n",
    "  'start':'1',\n",
    "  'limit':'100',\n",
    "  'convert':'USD'\n",
    "}"
   ]
  },
  {
   "cell_type": "code",
   "execution_count": 4,
   "id": "d778ea8f-1fd4-4c11-84fb-63b93e656356",
   "metadata": {},
   "outputs": [
    {
     "name": "stdout",
     "output_type": "stream",
     "text": [
      "https://sandbox-api.coinmarketcap.com/v1/cryptocurrency/listings/latest\n",
      "{   'status': {   'credit_count': 0,\n",
      "                  'elapsed': 0,\n",
      "                  'error_code': 400,\n",
      "                  'error_message': '\"aux\" should only include one or more '\n",
      "                                   'comma-separated values from '\n",
      "                                   '[num_market_pairs, cmc_rank, date_added, '\n",
      "                                   'tags, platform, max_supply, '\n",
      "                                   'circulating_supply, total_supply, '\n",
      "                                   'market_cap_by_total_supply, '\n",
      "                                   'volume_24h_reported, volume_7d, '\n",
      "                                   'volume_7d_reported, volume_30d, '\n",
      "                                   'volume_30d_reported, '\n",
      "                                   'is_market_cap_included_in_calc]',\n",
      "                  'timestamp': '2022-05-04T23:19:06.846Z'}}\n"
     ]
    },
    {
     "data": {
      "text/html": [
       "<div>\n",
       "<style scoped>\n",
       "    .dataframe tbody tr th:only-of-type {\n",
       "        vertical-align: middle;\n",
       "    }\n",
       "\n",
       "    .dataframe tbody tr th {\n",
       "        vertical-align: top;\n",
       "    }\n",
       "\n",
       "    .dataframe thead th {\n",
       "        text-align: right;\n",
       "    }\n",
       "</style>\n",
       "<table border=\"1\" class=\"dataframe\">\n",
       "  <thead>\n",
       "    <tr style=\"text-align: right;\">\n",
       "      <th></th>\n",
       "      <th>status</th>\n",
       "    </tr>\n",
       "  </thead>\n",
       "  <tbody>\n",
       "    <tr>\n",
       "      <th>credit_count</th>\n",
       "      <td>0</td>\n",
       "    </tr>\n",
       "    <tr>\n",
       "      <th>elapsed</th>\n",
       "      <td>0</td>\n",
       "    </tr>\n",
       "    <tr>\n",
       "      <th>error_code</th>\n",
       "      <td>400</td>\n",
       "    </tr>\n",
       "    <tr>\n",
       "      <th>error_message</th>\n",
       "      <td>\"aux\" should only include one or more comma-se...</td>\n",
       "    </tr>\n",
       "    <tr>\n",
       "      <th>timestamp</th>\n",
       "      <td>2022-05-04T23:19:06.846Z</td>\n",
       "    </tr>\n",
       "  </tbody>\n",
       "</table>\n",
       "</div>"
      ],
      "text/plain": [
       "                                                          status\n",
       "credit_count                                                   0\n",
       "elapsed                                                        0\n",
       "error_code                                                   400\n",
       "error_message  \"aux\" should only include one or more comma-se...\n",
       "timestamp                               2022-05-04T23:19:06.846Z"
      ]
     },
     "execution_count": 4,
     "metadata": {},
     "output_type": "execute_result"
    }
   ],
   "source": [
    "pp = pprint.PrettyPrinter(indent=4)\n",
    "print(url)\n",
    "headers = {\n",
    "    'Accepts': 'application/json',\n",
    "    'X-CMC_PRO_API_KEY': coin_market_api_key,\n",
    "}\n",
    "parameters1 = {\n",
    "'id':'1,2,3,4,5',\n",
    "'convert':'USD',\n",
    "'aux':\"market_cap_by_total_supply,circulating_supply,total_supply,is_active,is_fiat\"\n",
    "}\n",
    "\n",
    "session = Session()\n",
    "session.headers.update(headers)\n",
    "try:\n",
    "    response = session.get(url, params=parameters1)\n",
    "    data = json.loads(response.text)\n",
    "    pp.pprint(data)\n",
    "    \n",
    "\n",
    "except (ConnectionError, Timeout, TooManyRedirects) as e:\n",
    "    data = json.loads(response.text)\n",
    "    pp.pprint(data)\n",
    "    \n",
    "\n",
    "x = response.json()\n",
    "df = pd.read_json(json.dumps(x))\n",
    "\n",
    "df.head()"
   ]
  },
  {
   "cell_type": "code",
   "execution_count": null,
   "id": "01ea1750-9bf2-405f-b786-5a1953be2c33",
   "metadata": {},
   "outputs": [],
   "source": []
  },
  {
   "cell_type": "code",
   "execution_count": null,
   "id": "53de766f-7062-466e-91be-8aef991ed540",
   "metadata": {},
   "outputs": [],
   "source": []
  }
 ],
 "metadata": {
  "kernelspec": {
   "display_name": "Python 3 (ipykernel)",
   "language": "python",
   "name": "python3"
  },
  "language_info": {
   "codemirror_mode": {
    "name": "ipython",
    "version": 3
   },
   "file_extension": ".py",
   "mimetype": "text/x-python",
   "name": "python",
   "nbconvert_exporter": "python",
   "pygments_lexer": "ipython3",
   "version": "3.8.12"
  }
 },
 "nbformat": 4,
 "nbformat_minor": 5
}
